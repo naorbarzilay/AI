{
 "cells": [
  {
   "cell_type": "code",
   "execution_count": 17,
   "metadata": {
    "pycharm": {
     "name": "#%%\n"
    }
   },
   "outputs": [],
   "source": [
    "import numpy as np\n",
    "import matplotlib\n",
    "import matplotlib.pyplot as plt\n",
    "import pandas as pd\n",
    "from sklearn import datasets\n",
    "from sklearn.metrics import classification_report\n",
    "from tqdm import tqdm\n",
    "from time import time\n",
    "from sklearn.metrics import accuracy_score"
   ]
  },
  {
   "cell_type": "code",
   "execution_count": 18,
   "metadata": {},
   "outputs": [],
   "source": [
    "#change to binary value- 0 for empty, 1 for #/+\n",
    "def binary_conv(source):\n",
    "    data=[]\n",
    "    for s in source:\n",
    "        text=np.array(list(\"\".join(s)))\n",
    "        data.append(np.where(text==' ' ,0 ,1))\n",
    "    return data"
   ]
  },
  {
   "cell_type": "code",
   "execution_count": 19,
   "metadata": {
    "pycharm": {
     "name": "#%%\n"
    }
   },
   "outputs": [],
   "source": [
    "#load labels data\n",
    "training_labels=np.genfromtxt('traininglabels')\n",
    "validation_labels=np.genfromtxt('validationlabels')\n",
    "test_labels=np.genfromtxt('testlabels')"
   ]
  },
  {
   "cell_type": "code",
   "execution_count": 20,
   "metadata": {
    "pycharm": {
     "name": "#%%\n"
    }
   },
   "outputs": [],
   "source": [
    "#load images data\n",
    "training_images_shape=np.loadtxt('trainingimages', dtype='str', delimiter='\\n', comments=None).reshape(len(training_labels),-1)\n",
    "validation_images_shape=np.loadtxt('validationimages', dtype='str', delimiter='\\n', comments=None).reshape(len(validation_labels),-1)\n",
    "test_images_shape=np.loadtxt('testimages', dtype='str', delimiter='\\n', comments=None).reshape(len(test_labels),-1)"
   ]
  },
  {
   "cell_type": "code",
   "execution_count": 21,
   "metadata": {
    "pycharm": {
     "name": "#%%\n"
    }
   },
   "outputs": [],
   "source": [
    "training_images=binary_conv(training_images_shape)\n",
    "validation_images=binary_conv(validation_images_shape)\n",
    "test_images=binary_conv(test_images_shape)"
   ]
  },
  {
   "cell_type": "markdown",
   "metadata": {},
   "source": [
    "# Q1 - Naïve Bayes"
   ]
  },
  {
   "cell_type": "markdown",
   "metadata": {},
   "source": [
    "#### Helper Function:"
   ]
  },
  {
   "cell_type": "code",
   "execution_count": 41,
   "metadata": {},
   "outputs": [],
   "source": [
    "def getCondProbs(trainingDigits,traindata,trainlabel,k):\n",
    "    condProb = {} # dict of - {digit: conditional prob}\n",
    "    for digit in trainingDigits:\n",
    "        for trainlist,label in zip(traindata,trainlabel):\n",
    "            if(label==digit):\n",
    "                if(label not in condProb.keys()):\n",
    "                        count_pixel_list = [0] * 784 # build new list \n",
    "                        condProb[digit] = count_pixel_list\n",
    "                for index in range(len(trainlist)):\n",
    "                    condProb[digit][index] += trainlist[index] # add the value (0/1)\n",
    "    for key in condProb.keys(): # go over all digits\n",
    "        temp_list = condProb.get(key) \n",
    "        condProb[key] = [(x + k)/(trainlabel.count(key)+2*k) for x in temp_list] # add smoothing (2= Number of classes {0,1})\n",
    "    return condProb\n",
    "                                                   \n",
    "def computeLikelihood(testDigit, condProbCounters): # function ger test simple digit and compute prob\n",
    "    likelihood_list = []\n",
    "    for pixel in range(len(testDigit)):\n",
    "        likelihood_list.append(testDigit[pixel] * condProbCounters[pixel]) # the val on this cell * condprob\n",
    "    return likelihood_list"
   ]
  },
  {
   "cell_type": "code",
   "execution_count": 42,
   "metadata": {
    "pycharm": {
     "name": "#%%\n"
    }
   },
   "outputs": [],
   "source": [
    "def naive_bayes(traindata,trainlabel,testdata,testlabel,k): # k = smoothing\n",
    "    digits = [i for i in range(10)] # digits - {0,9}\n",
    "    c_prob=[]                        #list to store P(class)\n",
    "    y_pred = []                      # list for the prediction\n",
    "    d_acc=[]                         #Take a list that will save each class(digit) accuracy\n",
    "    cond_prob = getCondProbs(digits,traindata,trainlabel,k)  #get dict with digit and her conditional prob\n",
    "    \n",
    "    for c in digits:\n",
    "        c_prob.append(trainlabel.count(c)/len(trainlabel)) # the prob of each digit from training data = P(C)\n",
    "    \n",
    "    for i in range(len(testdata)): # go through all the test samples\n",
    "        lists=[]   #Empty list to store probability of all digit for every test simple\n",
    "        for j in range(10): # {0-9}  \n",
    "            cond_prob_of_digit = computeLikelihood(testdata[i],cond_prob.get(j))  # compute likelihood for each digit\n",
    "            cond_prob_of_digit = list(filter(lambda a: a != 0, cond_prob_of_digit)) #remove 0 from prob list\n",
    "            score=np.sum(np.log(cond_prob_of_digit)+np.log(c_prob[j])) \n",
    "            lists.append(score) #Append Probability of jth class for ith simple\n",
    "        pred=lists.index(max(lists)) # get the index (y) for max score = predict\n",
    "        y_pred.append(pred)\n",
    "      \n",
    "    accuracy = accuracy_score(testlabel, y_pred)  # compute accuracy      \n",
    "    return accuracy"
   ]
  },
  {
   "cell_type": "markdown",
   "metadata": {},
   "source": [
    "## A. Validation for value K : [ 1-5 ] "
   ]
  },
  {
   "cell_type": "code",
   "execution_count": 43,
   "metadata": {},
   "outputs": [
    {
     "name": "stdout",
     "output_type": "stream",
     "text": [
      "Accuracy For K=1: 0.706\n"
     ]
    }
   ],
   "source": [
    "#Call Naive Bayes Function\n",
    "accuracy=naive_bayes(training_images,training_labels.tolist(),validation_images,validation_labels.tolist(),1)\n",
    "\n",
    "#Print Overall Accuracy\n",
    "print('Accuracy For K=1: '+str(accuracy))"
   ]
  },
  {
   "cell_type": "code",
   "execution_count": 44,
   "metadata": {},
   "outputs": [
    {
     "name": "stdout",
     "output_type": "stream",
     "text": [
      "Accuracy For K=2: 0.705\n"
     ]
    }
   ],
   "source": [
    "#Call Naive Bayes Function\n",
    "accuracy=naive_bayes(training_images,training_labels.tolist(),validation_images,validation_labels.tolist(),2)\n",
    "\n",
    "#Print Overall Accuracy\n",
    "print('Accuracy For K=2: '+str(accuracy))"
   ]
  },
  {
   "cell_type": "code",
   "execution_count": 45,
   "metadata": {},
   "outputs": [
    {
     "name": "stdout",
     "output_type": "stream",
     "text": [
      "Accuracy For K=3: 0.708\n"
     ]
    }
   ],
   "source": [
    "#Call Naive Bayes Function\n",
    "accuracy=naive_bayes(training_images,training_labels.tolist(),validation_images,validation_labels.tolist(),3)\n",
    "\n",
    "#Print Overall Accuracy\n",
    "print('Accuracy For K=3: '+str(accuracy))"
   ]
  },
  {
   "cell_type": "code",
   "execution_count": 46,
   "metadata": {},
   "outputs": [
    {
     "name": "stdout",
     "output_type": "stream",
     "text": [
      "Accuracy For K=4: 0.704\n"
     ]
    }
   ],
   "source": [
    "#Call Naive Bayes Function\n",
    "accuracy=naive_bayes(training_images,training_labels.tolist(),validation_images,validation_labels.tolist(),4)\n",
    "\n",
    "#Print Overall Accuracy\n",
    "print('Accuracy For K=4: '+str(accuracy))"
   ]
  },
  {
   "cell_type": "code",
   "execution_count": 47,
   "metadata": {},
   "outputs": [
    {
     "name": "stdout",
     "output_type": "stream",
     "text": [
      "Accuracy For K=5: 0.702\n"
     ]
    }
   ],
   "source": [
    "#Call Naive Bayes Function\n",
    "accuracy=naive_bayes(training_images,training_labels.tolist(),validation_images,validation_labels.tolist(),5)\n",
    "\n",
    "#Print Overall Accuracy\n",
    "print('Accuracy For K=5: '+str(accuracy))"
   ]
  },
  {
   "cell_type": "code",
   "execution_count": 48,
   "metadata": {},
   "outputs": [
    {
     "data": {
      "text/html": [
       "<style type=\"text/css\">\n",
       "#T_ff251_row2_col0, #T_ff251_row2_col1 {\n",
       "  font-weight: bold;\n",
       "}\n",
       "</style>\n",
       "<table id=\"T_ff251_\">\n",
       "  <thead>\n",
       "    <tr>\n",
       "      <th class=\"col_heading level0 col0\" >K-Value</th>\n",
       "      <th class=\"col_heading level0 col1\" >Accuracy</th>\n",
       "    </tr>\n",
       "  </thead>\n",
       "  <tbody>\n",
       "    <tr>\n",
       "      <td id=\"T_ff251_row0_col0\" class=\"data row0 col0\" >1</td>\n",
       "      <td id=\"T_ff251_row0_col1\" class=\"data row0 col1\" >0.706</td>\n",
       "    </tr>\n",
       "    <tr>\n",
       "      <td id=\"T_ff251_row1_col0\" class=\"data row1 col0\" >2</td>\n",
       "      <td id=\"T_ff251_row1_col1\" class=\"data row1 col1\" >0.705</td>\n",
       "    </tr>\n",
       "    <tr>\n",
       "      <td id=\"T_ff251_row2_col0\" class=\"data row2 col0\" >3</td>\n",
       "      <td id=\"T_ff251_row2_col1\" class=\"data row2 col1\" >0.708</td>\n",
       "    </tr>\n",
       "    <tr>\n",
       "      <td id=\"T_ff251_row3_col0\" class=\"data row3 col0\" >4</td>\n",
       "      <td id=\"T_ff251_row3_col1\" class=\"data row3 col1\" >0.704</td>\n",
       "    </tr>\n",
       "    <tr>\n",
       "      <td id=\"T_ff251_row4_col0\" class=\"data row4 col0\" >5</td>\n",
       "      <td id=\"T_ff251_row4_col1\" class=\"data row4 col1\" >0.702</td>\n",
       "    </tr>\n",
       "  </tbody>\n",
       "</table>\n"
      ],
      "text/plain": [
       "<pandas.io.formats.style.Styler at 0x21a988e0940>"
      ]
     },
     "execution_count": 48,
     "metadata": {},
     "output_type": "execute_result"
    }
   ],
   "source": [
    "def df_style(val):\n",
    "    if(val == \"0.708\" or val == \"3\"):\n",
    "        return \"font-weight: bold\"\n",
    "\n",
    "data = [[\"1\",\"0.706\"],[\"2\",\"0.705\"],[\"3\",\"0.708\"],[\"4\",\"0.704\"],[\"5\",\"0.702\"]]\n",
    "df = pd.DataFrame(data, columns=[\"K-Value\",\"Accuracy\"])\n",
    "\n",
    "df.style.hide_index().applymap(df_style)"
   ]
  },
  {
   "cell_type": "markdown",
   "metadata": {},
   "source": [
    "## B. Predict with K=3:"
   ]
  },
  {
   "cell_type": "code",
   "execution_count": 49,
   "metadata": {},
   "outputs": [
    {
     "name": "stdout",
     "output_type": "stream",
     "text": [
      "Accuracy For K=3 with the test data: 0.699\n"
     ]
    }
   ],
   "source": [
    "#Call Naive Bayes Function\n",
    "accuracy=naive_bayes(training_images,training_labels.tolist(),test_images,test_labels.tolist(),3)\n",
    "\n",
    "#Print Overall Accuracy\n",
    "print('Accuracy For K=3 with the test data: '+str(accuracy))"
   ]
  },
  {
   "cell_type": "markdown",
   "metadata": {},
   "source": [
    "## C. Predict with K=3:"
   ]
  },
  {
   "cell_type": "code",
   "execution_count": 50,
   "metadata": {},
   "outputs": [
    {
     "name": "stdout",
     "output_type": "stream",
     "text": [
      "Accuracy For K=3 with the training data: 0.7376\n"
     ]
    }
   ],
   "source": [
    "accuracy=naive_bayes(training_images,training_labels.tolist(),training_images,training_labels.tolist(),3)\n",
    "\n",
    "print('Accuracy For K=3 with the training data: '+str(accuracy))"
   ]
  },
  {
   "cell_type": "markdown",
   "metadata": {},
   "source": [
    "# Q2 - Perceptron"
   ]
  },
  {
   "cell_type": "code",
   "execution_count": 30,
   "metadata": {},
   "outputs": [],
   "source": [
    "# add bias to the first index on lists\n",
    "def add_bias_to_vector(vectors,bias):\n",
    "    for i in range(len(vectors)):\n",
    "        if(isinstance(vectors[i],list)):\n",
    "            vectors[i] = [bias] + vectors[i]\n",
    "        else:\n",
    "            vectors[i] = [bias] + vectors[i].tolist()\n",
    "    return vectors"
   ]
  },
  {
   "cell_type": "code",
   "execution_count": 31,
   "metadata": {},
   "outputs": [],
   "source": [
    "def train_weights(traindata,trainlabel,num_iterations,learning_rate=1):\n",
    "\n",
    "    # initialize weights to 0\n",
    "    weights = []\n",
    "    for i in range(10):\n",
    "        weights.append([0]*(28*28 +1))\n",
    "    \n",
    "    done = False #check if we got zero error\n",
    "    count = 0 # number of iterations\n",
    "\n",
    "    while(not done and count < num_iterations):\n",
    "        changed = 0 # if zero then no error\n",
    "        for i in range(len(traindata)):\n",
    "            #val stores the values returned by each perceptron for numbers 0 - 9\n",
    "            val = [0]*10\n",
    "            \n",
    "            max = float('-inf')\n",
    "            \n",
    "            # then loop through other perceptrons, if any of them have a higher val returned they are our prediction \n",
    "            for digit in range(10):\n",
    "                score = np.dot(traindata[i] , weights[digit]) # compute score\n",
    "                if score > max:\n",
    "                    max = score\n",
    "                    prediction = digit # save the digit\n",
    "                # Takes the smallest digit in case of equality\n",
    "                elif(score == max):\n",
    "                    if(digit < prediction):\n",
    "                        max = score\n",
    "                        prediction = digit\n",
    "                        \n",
    "            #if the prediction we made was wrong we need to update the weights. otherwise, just continue \n",
    "            if prediction != trainlabel[i]:\n",
    "                changed = changed + 1 \n",
    "                weights[int(trainlabel[i])] = np.add(weights[int(trainlabel[i])], traindata[i] * learning_rate) # (W_y + F)\n",
    "                weights[prediction] = np.subtract(weights[prediction], traindata[i] * learning_rate) # (W_y' - F)\n",
    "        count = count + 1\n",
    "        if (changed == 0): # if no change, so we stop the interation\n",
    "            done = True\n",
    "    return weights\n",
    "\n",
    "def perceptron(traindata,trainlabels,testdata,testlabels,num_iterations,learning_rate=1):\n",
    "    \n",
    "    update_weights = train_weights(traindata,trainlabels,num_iterations,learning_rate) # got the weights after training\n",
    "    y_pred = []\n",
    "    \n",
    "    for i in range(len(testdata)): # go over test simple\n",
    "        max = float('-inf')\n",
    "        for digit in range(10):\n",
    "            score = np.dot(testdata[i], update_weights[digit]) # compute score\n",
    "            if(score > max): # take the max score\n",
    "                digit_pred = digit\n",
    "                max = score\n",
    "            elif (score == max):\n",
    "                if(digit < digit_pred):\n",
    "                    digit_pred = digit\n",
    "                    max = score    \n",
    "        y_pred.append(digit_pred)\n",
    "    accuracy = accuracy_score(testlabels, y_pred)   \n",
    "    return accuracy"
   ]
  },
  {
   "cell_type": "code",
   "execution_count": 32,
   "metadata": {},
   "outputs": [],
   "source": [
    "training_images=add_bias_to_vector(training_images,1)\n",
    "test_images=add_bias_to_vector(test_images,1)"
   ]
  },
  {
   "cell_type": "markdown",
   "metadata": {},
   "source": [
    "### A. For epoch = 3 : "
   ]
  },
  {
   "cell_type": "code",
   "execution_count": 33,
   "metadata": {},
   "outputs": [
    {
     "name": "stdout",
     "output_type": "stream",
     "text": [
      "Accuracy for epochs = 3 with train data: 0.852\n"
     ]
    }
   ],
   "source": [
    "print('Accuracy for epochs = 3 with train data: ' +str(perceptron(training_images,training_labels,training_images,training_labels,3,1)))"
   ]
  },
  {
   "cell_type": "code",
   "execution_count": 46,
   "metadata": {},
   "outputs": [
    {
     "name": "stdout",
     "output_type": "stream",
     "text": [
      "Accuracy for epochs = 3 with test data: 0.763\n"
     ]
    }
   ],
   "source": [
    "print('Accuracy for epochs = 3 with test data: ' +str(perceptron(training_images,training_labels,test_images,test_labels,3,1)))"
   ]
  },
  {
   "cell_type": "markdown",
   "metadata": {},
   "source": [
    "### B. For epoch 1-5 compare to <u>train</u> data: "
   ]
  },
  {
   "cell_type": "code",
   "execution_count": 47,
   "metadata": {},
   "outputs": [
    {
     "name": "stdout",
     "output_type": "stream",
     "text": [
      "Accuracy for epochs = 1 : 0.87\n",
      "\n",
      "Accuracy for epochs = 2 : 0.891\n",
      "\n",
      "Accuracy for epochs = 3 : 0.852\n",
      "\n",
      "Accuracy for epochs = 4 : 0.9112\n",
      "\n",
      "Accuracy for epochs = 5 : 0.8406\n",
      "\n"
     ]
    }
   ],
   "source": [
    "for i in range(1,6):\n",
    "    print('Accuracy for epochs = ' + str(i) + ' : ' +str(perceptron(training_images,training_labels,training_images,training_labels,i,1)))\n",
    "    print()"
   ]
  },
  {
   "cell_type": "markdown",
   "metadata": {},
   "source": [
    "### For epoch 1-5 compare to <u>test</u> data: "
   ]
  },
  {
   "cell_type": "code",
   "execution_count": 48,
   "metadata": {},
   "outputs": [
    {
     "name": "stdout",
     "output_type": "stream",
     "text": [
      "Accuracy for epochs = 1 : 0.781\n",
      "\n",
      "Accuracy for epochs = 2 : 0.812\n",
      "\n",
      "Accuracy for epochs = 3 : 0.763\n",
      "\n",
      "Accuracy for epochs = 4 : 0.814\n",
      "\n",
      "Accuracy for epochs = 5 : 0.746\n",
      "\n"
     ]
    }
   ],
   "source": [
    "for i in range(1,6):\n",
    "    print('Accuracy for epochs = ' + str(i) + ' : ' +str(perceptron(training_images,training_labels,test_images,test_labels,i,1)))\n",
    "    print()"
   ]
  }
 ],
 "metadata": {
  "kernelspec": {
   "display_name": "Python 3 (ipykernel)",
   "language": "python",
   "name": "python3"
  },
  "language_info": {
   "codemirror_mode": {
    "name": "ipython",
    "version": 3
   },
   "file_extension": ".py",
   "mimetype": "text/x-python",
   "name": "python",
   "nbconvert_exporter": "python",
   "pygments_lexer": "ipython3",
   "version": "3.9.7"
  }
 },
 "nbformat": 4,
 "nbformat_minor": 1
}
